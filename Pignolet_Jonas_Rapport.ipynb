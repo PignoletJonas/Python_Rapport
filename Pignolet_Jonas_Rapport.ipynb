{
 "cells": [
  {
   "cell_type": "markdown",
   "id": "4f4846e8",
   "metadata": {},
   "source": [
    "# Rapport Cours Python"
   ]
  },
  {
   "cell_type": "markdown",
   "id": "4b622dc2",
   "metadata": {},
   "source": [
    "## Introduction\n",
    "Ce rapport est un résumé des sujets abordés durant le cours à choix Python du 6ème semestre."
   ]
  },
  {
   "cell_type": "markdown",
   "id": "7f829195",
   "metadata": {},
   "source": [
    "### Quelques paquets"
   ]
  },
  {
   "cell_type": "code",
   "execution_count": 70,
   "id": "df47b8e9",
   "metadata": {},
   "outputs": [],
   "source": [
    "import random\n",
    "import logging\n",
    "import time\n",
    "from collections import namedtuple"
   ]
  },
  {
   "cell_type": "markdown",
   "id": "7cd1f900",
   "metadata": {},
   "source": [
    "## Zen de Python\n",
    "Texte qui définit les règles et principe du language de programmation Python."
   ]
  },
  {
   "cell_type": "code",
   "execution_count": 71,
   "id": "35a682a9",
   "metadata": {},
   "outputs": [],
   "source": [
    "import this"
   ]
  },
  {
   "cell_type": "markdown",
   "id": "dabeb8a9",
   "metadata": {},
   "source": [
    "## Structure des données\n"
   ]
  },
  {
   "cell_type": "markdown",
   "id": "e6081c37",
   "metadata": {},
   "source": [
    "Les données peuvent se présenter sous deux formes principales que voici.\n",
    "- Scalaires\n",
    "- Conteneurs"
   ]
  },
  {
   "cell_type": "markdown",
   "id": "ecdbc7cd",
   "metadata": {},
   "source": [
    "### Scalaires"
   ]
  },
  {
   "cell_type": "markdown",
   "id": "b24ba4e3",
   "metadata": {},
   "source": [
    "Les scalaires regroupent plusieurs types de données.\n",
    "- Integers\n",
    "- Float\n",
    "- Complex\n",
    "- String\n",
    "- Boolean\n",
    "- None"
   ]
  },
  {
   "cell_type": "markdown",
   "id": "27233a34",
   "metadata": {},
   "source": [
    "#### Integers\n",
    "Exemple"
   ]
  },
  {
   "cell_type": "code",
   "execution_count": 72,
   "id": "ffeb8d75",
   "metadata": {},
   "outputs": [],
   "source": [
    "a = 2\n",
    "b = 3"
   ]
  },
  {
   "cell_type": "markdown",
   "id": "047b7b0c",
   "metadata": {},
   "source": [
    "#### Float\n",
    "Exemple"
   ]
  },
  {
   "cell_type": "code",
   "execution_count": 73,
   "id": "8b3fba18",
   "metadata": {},
   "outputs": [],
   "source": [
    "a = 2.3\n",
    "b = 5.2"
   ]
  },
  {
   "cell_type": "markdown",
   "id": "b7ab3f2f",
   "metadata": {},
   "source": [
    "#### Complex\n",
    "Exemple"
   ]
  },
  {
   "cell_type": "code",
   "execution_count": 74,
   "id": "0fffcced",
   "metadata": {},
   "outputs": [],
   "source": [
    "a = 2 + 3*j\n",
    "b = 2*j\n",
    "c = 4"
   ]
  },
  {
   "cell_type": "markdown",
   "id": "9377b99a",
   "metadata": {},
   "source": [
    "#### String\n",
    "Exemple"
   ]
  },
  {
   "cell_type": "code",
   "execution_count": 75,
   "id": "e759a658",
   "metadata": {},
   "outputs": [],
   "source": [
    "a = 'Hello'\n",
    "b = 'World'"
   ]
  },
  {
   "cell_type": "markdown",
   "id": "98515152",
   "metadata": {},
   "source": [
    "#### Boolean\n",
    "Exemple"
   ]
  },
  {
   "cell_type": "code",
   "execution_count": 76,
   "id": "cd60d66c",
   "metadata": {},
   "outputs": [],
   "source": [
    "a = True\n",
    "b = False"
   ]
  },
  {
   "cell_type": "markdown",
   "id": "3bad4128",
   "metadata": {},
   "source": [
    "#### None"
   ]
  },
  {
   "cell_type": "code",
   "execution_count": 77,
   "id": "20985f44",
   "metadata": {},
   "outputs": [],
   "source": [
    "a = None"
   ]
  },
  {
   "cell_type": "markdown",
   "id": "0f8b1477",
   "metadata": {},
   "source": [
    "### Conteneurs\n",
    "Les conteneurs regroupent plusieurs types également.\n",
    "- Listes\n",
    "- Tuple\n",
    "- Dictionnaire\n",
    "- Set"
   ]
  },
  {
   "cell_type": "markdown",
   "id": "5156abd8",
   "metadata": {},
   "source": [
    "#### Listes\n",
    "Quelques informations :\n",
    "- -1 est la dernière valeur\n",
    "- :-1 Tout jusqu'à la dernière valeur\n",
    "- 2:-2 De la troisième à l'avant dernière valeur\n",
    "- ::2 Tout le tableau par pas de 2\n",
    "- N'est pas hasable\n",
    "- Possède un itérateur\n",
    "\n",
    "Exemple"
   ]
  },
  {
   "cell_type": "code",
   "execution_count": 78,
   "id": "a9469188",
   "metadata": {},
   "outputs": [],
   "source": [
    "fish_names = [\"Trout\", \"Salmon\", \"Bass\", \"Catfish\", \"Tuna\",\n",
    "              \"Mackerel\", \"Sardine\", \"Haddock\", \"Halibut\", \"Cod\"]\n",
    "fish_species = [\"Oncorhynchus mykiss\", \"Salmo salar\", \"Micropterus salmoides\", \"Ictalurus punctatus\", \"Thunnus albacares\",\n",
    "                \"Scomber scombrus\", \"Sardina pilchardus\", \"Melanogrammus aeglefinus\", \"Hippoglossus hippoglossus\", \"Gadus morhua\"]\n",
    "fish_gender = [\"Male\", \"Female\"]\n",
    "fish_status = [True, False]\n",
    "\n",
    "fish_list = []\n",
    "\n",
    "for i in range(100):\n",
    "    name = random.choice(fish_names)\n",
    "    species = random.choice(fish_species)\n",
    "    gender = random.choice(fish_gender)\n",
    "    status = random.choice(fish_status)\n",
    "    fish_list.append((name, species, gender, status))"
   ]
  },
  {
   "cell_type": "markdown",
   "id": "5f3293e9",
   "metadata": {},
   "source": [
    "#### Tuple\n",
    "Quelques informations :\n",
    "- Hashable (hash)\n",
    "- Possède un itérateur\n",
    "- Non modifiable\n",
    "\n",
    "Exemple"
   ]
  },
  {
   "cell_type": "code",
   "execution_count": 79,
   "id": "36fe0ac1",
   "metadata": {},
   "outputs": [],
   "source": [
    "fruits = (\"apple\", \"banana\", \"orange\")"
   ]
  },
  {
   "cell_type": "markdown",
   "id": "6d58361d",
   "metadata": {},
   "source": [
    "#### Dictionnaire\n",
    "Quelques informations :\n",
    "- {key: value}\n",
    "- .items()\n",
    "- .value()\n",
    "- .keys()\n",
    "- Les clés doivent être hashable\n",
    "- Hash table\n",
    "\n",
    "Exemple"
   ]
  },
  {
   "cell_type": "code",
   "execution_count": 80,
   "id": "4171c579",
   "metadata": {},
   "outputs": [],
   "source": [
    "student = {\n",
    "    \"name\": \"John\",\n",
    "    \"age\": 20,\n",
    "    \"major\": \"Computer Science\"\n",
    "}"
   ]
  },
  {
   "cell_type": "markdown",
   "id": "b53b3f3b",
   "metadata": {},
   "source": [
    "#### Set\n",
    "Quelques informations :\n",
    "- C'est un dictionnaire avec seulement des clés\n",
    "\n",
    "Exemple"
   ]
  },
  {
   "cell_type": "code",
   "execution_count": 81,
   "id": "044178ff",
   "metadata": {},
   "outputs": [],
   "source": [
    "fruits = {\"apple\", \"banana\", \"orange\"}\n",
    "a = set()\n",
    "a.add('Hello World')\n",
    "a"
   ]
  },
  {
   "cell_type": "markdown",
   "id": "8d49aa9b",
   "metadata": {},
   "source": [
    "## Classes"
   ]
  },
  {
   "cell_type": "markdown",
   "id": "55192ad0",
   "metadata": {},
   "source": [
    "### Méthode magique\n",
    "Quelques explications :\n",
    "En python, les méthodes magiques sont des méthodes prédéfinies avec des noms particuliers qui permettent de définir le comportement d'une classe ou d'un objet.\n",
    "\n",
    "Quelques exemples de méthodes magiques"
   ]
  },
  {
   "cell_type": "markdown",
   "id": "f7a4d0ca",
   "metadata": {},
   "source": [
    "- `__init__` Initialisateur de classe qui peut prendre des paramètres\n",
    "- `__next__` Qui retourne l'élément suivant d'une séquence\n",
    "- `__iter__` Qui retourne un itérateur sur une séquence\n",
    "- `__str__`  Qui retourne une représentation string d'un objet\n",
    "- `__repr__` Qui retourne une version affichable d'un objet\n",
    "- `__len__`  Qui retourne la longueur d'un objet\n",
    "- `__getitem__`  Permet l'accès à un objet lors d'indexing ou de subscription.\n",
    "- `__setitem__` Permet aux objets d'être modifiés ou actualisés lors d'indexing ou de subscription."
   ]
  },
  {
   "cell_type": "markdown",
   "id": "c31d741d",
   "metadata": {},
   "source": [
    "### Ouverture de fichier"
   ]
  },
  {
   "cell_type": "code",
   "execution_count": 82,
   "id": "23a3714b",
   "metadata": {},
   "outputs": [],
   "source": [
    "filename = 'classes.py'\n",
    "fp = open(filename, 'r') # 'w', 'a'\n",
    "fp.read() # Lis tout le fichier\n",
    "fp.readline() # Lis la prochaine ligne\n",
    "fp.readlines() # Lis toutes les lignes \n",
    "fp.close()"
   ]
  },
  {
   "cell_type": "markdown",
   "id": "d066764d",
   "metadata": {},
   "source": [
    "### Autres"
   ]
  },
  {
   "cell_type": "markdown",
   "id": "41103b25",
   "metadata": {},
   "source": [
    "- Toute classe et objet sont des instances de la classe `type`\n",
    "- Créer de l'héritage entre classes avec une flèche et des carrés (UML)\n",
    "- Que la flèche d'héritage on la prononce \"est un\"\n",
    "- Qu'une classe peut hériter de plusieurs classes, mais c'est pas bien \n",
    "- Que c'est pas bien à cause du problème du diamant\n",
    "- On doit toujours appeler le constructeur de la classe parente avec `super().__init__(...)`\n",
    "- On peut avoir un getter avec `@property` et un setter avec `@<nom>.setter`\n",
    "- Il existe en Python un vrai constructeur appelé `__new__(cls)`\n",
    "- Le `__init__` n'est pas un constructeur, c'est un initialisateur\n",
    "- Une fonctionnalité \"très avancée\" de Python sont les metaclasses\n",
    "- Une metaclasse est typiquement utilisée pour créer des Singleton"
   ]
  },
  {
   "cell_type": "markdown",
   "id": "c4a8d942",
   "metadata": {},
   "source": [
    "### Singleton\n",
    "Un singleton est un modéle de conception qui limite l'instanciation d'une classe à un seul objet. Ce modéle garantit qu'une seule instance de la classe est créée et dournit un point d'accès global à cette instance.£"
   ]
  },
  {
   "cell_type": "code",
   "execution_count": 103,
   "id": "7ec2dcab",
   "metadata": {},
   "outputs": [],
   "source": [
    "class Singleton:\n",
    "    _instance = None\n",
    "\n",
    "    def __new__(cls, *args, **kwargs):\n",
    "        if not cls._instance:\n",
    "            cls._instance = super().__new__(cls, *args, **kwargs)\n",
    "        return cls._instance"
   ]
  },
  {
   "cell_type": "markdown",
   "id": "c99abc3c",
   "metadata": {},
   "source": [
    "- Un logger est typiquement un singleton"
   ]
  },
  {
   "cell_type": "code",
   "execution_count": 104,
   "id": "dc84a83b",
   "metadata": {},
   "outputs": [],
   "source": [
    "class Singleton(type):\n",
    "    _instances = {}\n",
    "    def __call__(cls, *args, **kwargs):\n",
    "        if cls not in cls._instances:\n",
    "            cls._instances[cls] = super(Singleton, cls).__call__(*args, **kwargs)\n",
    "        return cls._instances[cls]\n",
    "        \n",
    "class Logger(object):\n",
    "    __metaclass__ = Singleton\n",
    "\n",
    "\n",
    "def foo():\n",
    "    logger = Logger()\n",
    "    logger.error('This is an error message')\n",
    "    logger.info('This is an info message')\n",
    "    logger.debug('This is a debug message')\n",
    "\n",
    "def bar():\n",
    "    logger = Logger()\n",
    "    logger.error('This is an error message')"
   ]
  },
  {
   "cell_type": "markdown",
   "id": "0a3a7ac3",
   "metadata": {},
   "source": [
    "## Opérateurs"
   ]
  },
  {
   "cell_type": "markdown",
   "id": "5f38ccc6",
   "metadata": {},
   "source": [
    "### zip\n",
    "L'opérateur zip permet d'assembler deux éléments de listes différentes.\n",
    "\n",
    "Exemples"
   ]
  },
  {
   "cell_type": "code",
   "execution_count": 83,
   "id": "5fd120b8",
   "metadata": {},
   "outputs": [],
   "source": [
    "firstnames = ['John', 'Emmet', 'Luke']\n",
    "lastnames = ['Doe', 'Brown', 'Skywalker']\n",
    "list(zip(firstnames, lastnames))"
   ]
  },
  {
   "cell_type": "code",
   "execution_count": 84,
   "id": "d5ffac30",
   "metadata": {},
   "outputs": [],
   "source": [
    "[' '.join(x) for x in list(zip(firstnames, lastnames))]"
   ]
  },
  {
   "cell_type": "code",
   "execution_count": 85,
   "id": "c711e171",
   "metadata": {},
   "outputs": [],
   "source": [
    "list(map(lambda x: ' '.join(x), zip(firstnames, lastnames)))"
   ]
  },
  {
   "cell_type": "code",
   "execution_count": 86,
   "id": "e73db8b0",
   "metadata": {},
   "outputs": [],
   "source": [
    "list(filter(lambda x: x%3, [1,2,3,4,5,6,7]))"
   ]
  },
  {
   "cell_type": "markdown",
   "id": "c9c0342b",
   "metadata": {},
   "source": [
    "### Déréférencement * et **\n",
    "Dans une fonction, des arguements peuvent être amenés. Il y a notament *args et ** kwargs qui sont utilisés pour gérer un nombre variable d'arguments.\n",
    "\n",
    "- `*args` amène les arguments qui n'ont pas de clé\n",
    "- `**kwargs` amène les arguments qui possèdent une clé\n",
    "\n",
    "Exemple"
   ]
  },
  {
   "cell_type": "code",
   "execution_count": 87,
   "id": "e04526d3",
   "metadata": {},
   "outputs": [],
   "source": [
    "def heig(function):\n",
    "    logging.basicConfig(filename='log.txt', level=logging.INFO)\n",
    "\n",
    "    def wrapper(*args, **kwargs):\n",
    "        # Obtenir le nom de la fonction appelée\n",
    "        func_name = function.__name__\n",
    "\n",
    "        # Obtenir les arguments passés à la fonction\n",
    "        args_str = ', '.join(repr(arg) for arg in args)\n",
    "        kwargs_str = ', '.join(\n",
    "            f'{key}={repr(value)}' for key, value in kwargs.items())\n",
    "        arguments = ', '.join(filter(None, [args_str, kwargs_str]))\n",
    "\n",
    "        # Enregistrer l'heure et la date de l'appel\n",
    "        timestamp = time.strftime('%Y-%m-%d %H:%M:%S')\n",
    "\n",
    "        # Mesurer le temps d'exécution de la fonction\n",
    "        start_time = time.time()\n",
    "        try:\n",
    "            # Appeler la fonction et obtenir la valeur de retour\n",
    "            result = function(*args, **kwargs)\n",
    "            return result\n",
    "        except Exception as e:\n",
    "            # Gérer les exceptions\n",
    "            logging.error(f'Exception in {func_name}: {repr(e)}')\n",
    "            raise\n",
    "        finally:\n",
    "            # Calculer le temps d'exécution\n",
    "            end_time = time.time()\n",
    "            execution_time = end_time - start_time\n",
    "\n",
    "            # Ecriture des logs\n",
    "            log_message = f'{timestamp} - Function: {func_name}, Arguments: {arguments}, ' \\\n",
    "                          f'Time: {execution_time:.6f} sec, Result: {result}'\n",
    "            logging.info(log_message)\n",
    "\n",
    "    return wrapper"
   ]
  },
  {
   "cell_type": "markdown",
   "id": "7d346b6d",
   "metadata": {},
   "source": [
    "## Namedtuple\n",
    "Un `namedtuple` est simplement un tuple auquel on peut donner un nom particulier.\n",
    "\n",
    "Exemple"
   ]
  },
  {
   "cell_type": "code",
   "execution_count": 91,
   "id": "aa74d8ad",
   "metadata": {},
   "outputs": [],
   "source": [
    "# Define a named tuple called 'Point' with fields 'x' and 'y'\n",
    "Point = namedtuple('Point', ['x', 'y'])\n",
    "\n",
    "# Create an instance of the Point namedtuple\n",
    "p = Point(2, 5)\n",
    "\n",
    "# Access the fields by name\n",
    "print(p.x)  # Output: 2\n",
    "print(p.y)  # Output: 5"
   ]
  },
  {
   "cell_type": "markdown",
   "id": "9b32ce94",
   "metadata": {},
   "source": [
    "## Numpy\n",
    "Numpy est un package Python qui permet de faire des opérations numériques."
   ]
  },
  {
   "cell_type": "code",
   "execution_count": 92,
   "id": "f7a45eac",
   "metadata": {},
   "outputs": [],
   "source": [
    "import numpy as np"
   ]
  },
  {
   "cell_type": "markdown",
   "id": "94c91160",
   "metadata": {},
   "source": [
    "Exemple Broadcasting"
   ]
  },
  {
   "cell_type": "code",
   "execution_count": 93,
   "id": "a4d4a7d5",
   "metadata": {},
   "outputs": [],
   "source": [
    "a = np.arange(1, 6)\n",
    "b = np.ones(5)\n",
    "c = a[:, np.newaxis] * b\n",
    "c = np.tile(a, (5, 1))  # Meilleure solution"
   ]
  },
  {
   "cell_type": "markdown",
   "id": "f04b8ddd",
   "metadata": {},
   "source": [
    "## Click\n",
    "Click est une librairie Python qui permet de construide des command-line interfaces (CLIs) de manière rapide. Elle simplifie le processus de création des outils commande-line et automatise des tâches très souvent utilisées."
   ]
  },
  {
   "cell_type": "code",
   "execution_count": 94,
   "id": "7fed1d4a",
   "metadata": {},
   "outputs": [],
   "source": [
    "import click"
   ]
  },
  {
   "cell_type": "code",
   "execution_count": 95,
   "id": "f5bcf30b",
   "metadata": {},
   "outputs": [],
   "source": [
    "@click.command()\n",
    "@click.argument('a', type=float)\n",
    "@click.argument('b', type=float)\n",
    "@click.argument('c', type=float)\n",
    "def quad(a, b, c):\n",
    "    delta = b**2 - 4*a*c\n",
    "    # Display x1 and x2 even if complex\n",
    "    x1 = (-b + delta**0.5) / (2*a)\n",
    "    x2 = (-b - delta**0.5) / (2*a)\n",
    "    click.echo(f'x1 = {x1}')\n",
    "    click.echo(f'x2 = {x2}')\n",
    "    \n",
    "if __name__ == '__main__':\n",
    "    quad()"
   ]
  },
  {
   "cell_type": "markdown",
   "id": "b85584f8",
   "metadata": {},
   "source": [
    "## Jupyter\n",
    "Jupyter est un environnement web interactif permettant de créer et partager des documents contenant du texte ainsi que du code en direct.\n",
    "\n",
    "### Référence\n",
    "- https://www.edureka.co/blog/wp-content/uploads/2018/10/Jupyter_Notebook_CheatSheet_Edureka.pdf"
   ]
  },
  {
   "cell_type": "markdown",
   "id": "fa38edc7",
   "metadata": {},
   "source": [
    "### Notebook\n",
    "Quelques commandes :"
   ]
  },
  {
   "cell_type": "markdown",
   "id": "b6f33b3f",
   "metadata": {},
   "source": [
    "- `pip install juypter` Commande pour installer le package\n",
    "- `jupyter notebook` Commande pour lancer l'environnement\n",
    "- `jupyter console --existing` Commande pour lier la console à l'environnement jupyter existant"
   ]
  },
  {
   "cell_type": "markdown",
   "id": "de01ce83",
   "metadata": {},
   "source": [
    "### Lab\n",
    "Quelques commandes :"
   ]
  },
  {
   "cell_type": "markdown",
   "id": "10e93f4f",
   "metadata": {},
   "source": [
    "- `pip install jupyterlab` Commande pour installer le package\n",
    "- `jupyter lab` Commande pour lancer l'environnement"
   ]
  },
  {
   "cell_type": "markdown",
   "id": "4690639a",
   "metadata": {},
   "source": [
    "## Python notebook\n",
    "Python notebook est un environnement similaire à Jupyter notebook, mais il est directement intégré à Python."
   ]
  },
  {
   "cell_type": "markdown",
   "id": "aaac74d8",
   "metadata": {},
   "source": [
    "Pour créer un notebook python, il suffit de créer un nouveau fichier avec l'extension `.ipynb`"
   ]
  },
  {
   "cell_type": "markdown",
   "id": "455798d5",
   "metadata": {},
   "source": [
    "## Pandas\n",
    "### Références\n",
    "- https://pandas.pydata.org/Pandas_Cheat_Sheet.pdf\n",
    "- https://pandas.pydata.org/pandas-docs/stable/user_guide/10min.html"
   ]
  },
  {
   "cell_type": "markdown",
   "id": "e5ff308d",
   "metadata": {},
   "source": [
    "Pandas est une librairie Python populaire permettant la gestion d'un grand nombre de données. Elle permet de faire de la manipulation, de l'analyse ainsi que du nettoyage de données. Elle fournit des structures de données facile à utiliser ainsi que des outils d'analyse faisant de Pandas un outil puissant pour travailler avec des données structurées."
   ]
  },
  {
   "cell_type": "markdown",
   "id": "ff9d1702",
   "metadata": {},
   "source": [
    "Les structures de données clés dans Pandas sont :\n",
    "- `Series`: Un tableau à une dimension étiqueté pouvant contenir n'importe quel type de données.\n",
    "- `DataFrame`: Un tableau à deux dimensions étiqueté avec des colonnes ayant potentiellement des types de données différents."
   ]
  },
  {
   "cell_type": "markdown",
   "id": "f2fa0459",
   "metadata": {},
   "source": [
    "Commande pour installer Pandas\n",
    "- `pip install pandas`"
   ]
  },
  {
   "cell_type": "code",
   "execution_count": 99,
   "id": "0d5e3f8b",
   "metadata": {},
   "outputs": [],
   "source": [
    "import pandas as pd # Command to use pandas in code"
   ]
  },
  {
   "cell_type": "markdown",
   "id": "15f303cc",
   "metadata": {},
   "source": [
    "## Flask"
   ]
  },
  {
   "cell_type": "markdown",
   "id": "aea0c749",
   "metadata": {},
   "source": [
    "### Jinja2"
   ]
  },
  {
   "cell_type": "code",
   "execution_count": 100,
   "id": "5abf0215",
   "metadata": {},
   "outputs": [],
   "source": [
    "from jinja2 import Environment, FileSystemLoader, select_autoescape"
   ]
  },
  {
   "cell_type": "code",
   "execution_count": null,
   "id": "126d3ebe",
   "metadata": {},
   "outputs": [],
   "source": [
    "env = Environment(\n",
    "    loader=FileSystemLoader('templates/'),\n",
    "    autoescape=select_autoescape()\n",
    ")\n",
    "template = env.get_template('template.html')\n",
    "\n",
    "with open('index.html', 'w') as fp:\n",
    "    fp.write(template.render(name='Yves', job='professeur'))"
   ]
  },
  {
   "cell_type": "markdown",
   "id": "16432094",
   "metadata": {},
   "source": [
    "Jinja2 est directement intégrée à Flask"
   ]
  },
  {
   "cell_type": "markdown",
   "id": "ad27bebd",
   "metadata": {},
   "source": [
    "### Flask\n",
    "Flask est une framework web légére et flexible. Il est conçu pour créer des applications web rapidement et avec une approche minimaliste."
   ]
  },
  {
   "cell_type": "code",
   "execution_count": 101,
   "id": "cb12cfa6",
   "metadata": {},
   "outputs": [],
   "source": [
    "from flask import Flask, render_template"
   ]
  },
  {
   "cell_type": "markdown",
   "id": "52b0ab5f",
   "metadata": {},
   "source": [
    "Exemple d'un magasin :"
   ]
  },
  {
   "cell_type": "code",
   "execution_count": 102,
   "id": "3af6997c",
   "metadata": {},
   "outputs": [],
   "source": [
    "app = Flask(__name__)\n",
    "\n",
    "data = [\n",
    "    {\n",
    "        'name': 'Ballons',\n",
    "        'variants': [\n",
    "            {'name': 'Taille 5', 'price': 23},\n",
    "            {'name': 'Taille 4', 'price': 21},\n",
    "        ]   \n",
    "    },\n",
    "    {\n",
    "        'name': 'Chaussures',\n",
    "        'variants': [\n",
    "            {'name': 'Taille 42', 'price': 120},\n",
    "            {'name': 'Taille 43', 'price': 130},\n",
    "        ]   \n",
    "    },\n",
    "]\n",
    "\n",
    "@app.route('/')\n",
    "def index():\n",
    "    return render_template('sport.html', name=\"Chez Loulou\", articles=data)\n",
    "\n",
    "if __name__ == '__main__':\n",
    "    app.run(debug=True)"
   ]
  },
  {
   "cell_type": "markdown",
   "id": "ae9b69fa",
   "metadata": {},
   "source": [
    "## Logs\n",
    "Les logs sont tous les événements ou messages générés par une application, un système d'exploitation ou tout autre composant logiciel. Les logs enregistrent des informations importantes sur l'exécution, le comportement et l'état du système ou de l'application."
   ]
  },
  {
   "cell_type": "code",
   "execution_count": 105,
   "id": "c042550d",
   "metadata": {},
   "outputs": [],
   "source": [
    "import logging\n",
    "import time"
   ]
  },
  {
   "cell_type": "markdown",
   "id": "5a46ff7e",
   "metadata": {},
   "source": [
    "Exemple d'enregistrement des logs :"
   ]
  },
  {
   "cell_type": "code",
   "execution_count": 106,
   "id": "666cc3bf",
   "metadata": {},
   "outputs": [],
   "source": [
    "def heig(function):\n",
    "    logging.basicConfig(filename='log.txt', level=logging.INFO)\n",
    "\n",
    "    def wrapper(*args, **kwargs):\n",
    "        # Obtenir le nom de la fonction appelée\n",
    "        func_name = function.__name__\n",
    "\n",
    "        # Obtenir les arguments passés à la fonction\n",
    "        args_str = ', '.join(repr(arg) for arg in args)\n",
    "        kwargs_str = ', '.join(\n",
    "            f'{key}={repr(value)}' for key, value in kwargs.items())\n",
    "        arguments = ', '.join(filter(None, [args_str, kwargs_str]))\n",
    "\n",
    "        # Enregistrer l'heure et la date de l'appel\n",
    "        timestamp = time.strftime('%Y-%m-%d %H:%M:%S')\n",
    "\n",
    "        # Mesurer le temps d'exécution de la fonction\n",
    "        start_time = time.time()\n",
    "        try:\n",
    "            # Appeler la fonction et obtenir la valeur de retour\n",
    "            result = function(*args, **kwargs)\n",
    "            return result\n",
    "        except Exception as e:\n",
    "            # Gérer les exceptions\n",
    "            logging.error(f'Exception in {func_name}: {repr(e)}')\n",
    "            raise\n",
    "        finally:\n",
    "            # Calculer le temps d'exécution\n",
    "            end_time = time.time()\n",
    "            execution_time = end_time - start_time\n",
    "\n",
    "            # Ecriture des logs\n",
    "            log_message = f'{timestamp} - Function: {func_name}, Arguments: {arguments}, ' \\\n",
    "                          f'Time: {execution_time:.6f} sec, Result: {result}'\n",
    "            logging.info(log_message)\n",
    "\n",
    "    return wrapper"
   ]
  },
  {
   "cell_type": "markdown",
   "id": "6f9617a9",
   "metadata": {},
   "source": [
    "## Exceptions"
   ]
  },
  {
   "cell_type": "markdown",
   "id": "605a4aee",
   "metadata": {},
   "source": [
    "Exemple d'exception et de code d'erreur :"
   ]
  },
  {
   "cell_type": "code",
   "execution_count": 107,
   "id": "a939e151",
   "metadata": {},
   "outputs": [],
   "source": [
    "codes = [4, 8, 15, 16, 23, 42]\n",
    "def getCode(i):\n",
    "    try: \n",
    "        return codes[i]\n",
    "    except IndexError:\n",
    "        raise ValueError(\"Mauvaise valeur de i\")"
   ]
  },
  {
   "cell_type": "markdown",
   "id": "9d446f24",
   "metadata": {},
   "source": [
    "A l'exemple au chapitre précédent, le concept d'exception a déjà été utilisé:"
   ]
  },
  {
   "cell_type": "code",
   "execution_count": 110,
   "id": "37bec3f3",
   "metadata": {},
   "outputs": [],
   "source": [
    "    try:\n",
    "            # Appeler la fonction et obtenir la valeur de retour\n",
    "            result = function(*args, **kwargs)\n",
    "            return result\n",
    "    except Exception as e:\n",
    "            # Gérer les exceptions\n",
    "            logging.error(f'Exception in {func_name}: {repr(e)}')\n",
    "            raise\n",
    "    finally:\n",
    "            # Calculer le temps d'exécution\n",
    "            end_time = time.time()\n",
    "            execution_time = end_time - start_time\n",
    "\n",
    "            # Ecriture des logs\n",
    "            log_message = f'{timestamp} - Function: {func_name}, Arguments: {arguments}, ' \\\n",
    "                          f'Time: {execution_time:.6f} sec, Result: {result}'\n",
    "            logging.info(log_message)"
   ]
  }
 ],
 "metadata": {
  "kernelspec": {
   "display_name": "Python 3 (ipykernel)",
   "language": "python",
   "name": "python3"
  },
  "language_info": {
   "codemirror_mode": {
    "name": "ipython",
    "version": 3
   },
   "file_extension": ".py",
   "mimetype": "text/x-python",
   "name": "python",
   "nbconvert_exporter": "python",
   "pygments_lexer": "ipython3",
   "version": "3.10.6"
  }
 },
 "nbformat": 4,
 "nbformat_minor": 5
}
